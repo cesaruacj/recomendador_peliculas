{
 "cells": [
  {
   "cell_type": "code",
   "execution_count": 1,
   "id": "8e9208d6-5ddc-456b-883f-6cb43123b6df",
   "metadata": {},
   "outputs": [],
   "source": [
    "import pandas as pd\n",
    "import numpy as np\n",
    "import pickle\n",
    "import json\n",
    "import datetime\n",
    "import ipywidgets as widgets\n",
    "from IPython.display import display, HTML, Javascript, clear_output\n",
    "\n",
    "# Configurar Pandas para mostrar todas las columnas\n",
    "pd.set_option('display.max_columns', None)"
   ]
  },
  {
   "cell_type": "code",
   "execution_count": 2,
   "id": "e8b64e01-1afc-4771-ad7a-bb70cacedb17",
   "metadata": {},
   "outputs": [
    {
     "name": "stdout",
     "output_type": "stream",
     "text": [
      "Ajuste de perfil\n"
     ]
    }
   ],
   "source": [
    "print(\"Ajuste de perfil\")\n",
    "with open('user_id.json', 'r') as f:\n",
    "    user_id = json.load(f)['ID_Usuario']\n",
    "#print(user_id)\n",
    "\n",
    "# Leer el archivo CSV\n",
    "dfusuarios = pd.read_csv('usuarios.csv')"
   ]
  },
  {
   "cell_type": "code",
   "execution_count": 3,
   "id": "02af5572-60be-416a-a265-6e23c9c94fcc",
   "metadata": {},
   "outputs": [],
   "source": [
    "def MostrarVistaGenDeseados():\n",
    "    with output_vista:\n",
    "        output_vista.clear_output()  # Limpiar el contenido anterior\n",
    "        display(vista_deseados)\n",
    "\n",
    "def MostrarVistaGenNoDeseados():\n",
    "    with output_vista:\n",
    "        output_vista.clear_output()  # Limpiar el contenido anterior\n",
    "        display(vista_no_deseados)\n",
    "        inicializar_botones_no_deseados()"
   ]
  },
  {
   "cell_type": "code",
   "execution_count": 4,
   "id": "13095597-644d-405b-ae7d-bd2ed6359869",
   "metadata": {},
   "outputs": [],
   "source": [
    "def boton_clicado1(b):\n",
    "    genero = b.description\n",
    "    if estado_generos_deseados[genero] is None:\n",
    "        valores = [v for v in estado_generos_deseados.values() if v is not None]\n",
    "        nuevo_valor = max(valores, default=0) + 1 if valores else 1\n",
    "        if len(valores) < 5:\n",
    "            estado_generos_deseados[genero] = nuevo_valor\n",
    "            b.style.button_color = 'lightgreen'\n",
    "    else:\n",
    "        orden = estado_generos_deseados[genero]\n",
    "        for key, value in estado_generos_deseados.items():\n",
    "            if value and value > orden:\n",
    "                estado_generos_deseados[key] = value - 1\n",
    "        estado_generos_deseados[genero] = None\n",
    "        b.style.button_color = None\n",
    "    mostrar_seleccionados1()\n",
    "    actualizar_boton_continuar1()\n",
    "\n",
    "def mostrar_seleccionados1():\n",
    "    with output_deseados2:\n",
    "        clear_output()\n",
    "        seleccionados = sorted([(g, v) for g, v in estado_generos_deseados.items() if v is not None], key=lambda x: x[1])\n",
    "        if seleccionados:\n",
    "            print(\"Géneros seleccionados por orden de preferencia:\")\n",
    "            for i, (genero, orden) in enumerate(seleccionados, start=1):\n",
    "                print(f\"{i}. {genero}\")\n",
    "        else:\n",
    "            print(\"No hay géneros seleccionados.\")\n",
    "\n",
    "def actualizar_boton_continuar1():\n",
    "    valores = [v for v in estado_generos_deseados.values() if v is not None]\n",
    "    btn_continuar1.disabled = not valores\n",
    "\n",
    "def continuar1():\n",
    "    global dfusuarios\n",
    "    index_usuario = dfusuarios[dfusuarios['ID_Usuario'] == user_id].index[0]\n",
    "    valores = sorted([(g, v) for g, v in estado_generos_deseados.items() if v is not None], key=lambda x: x[1])\n",
    "    for i, (genero, orden) in enumerate(valores, start=1):\n",
    "        col_index = generos.index(genero) + 7\n",
    "        dfusuarios.iat[index_usuario, col_index] = 1 - 0.05 * (i - 1)\n",
    "    dfusuarios.to_csv('usuarios.csv', index=False)\n",
    "    MostrarVistaGenNoDeseados()\n",
    "\n",
    "# Función para manejar el evento de click en los botones de géneros no deseados\n",
    "def boton_clicado2(b):\n",
    "    genero = b.description\n",
    "    if estado_generos_no_deseados[genero] is None:\n",
    "        valores = [v for v in estado_generos_no_deseados.values() if v is not None]\n",
    "        if len(valores) < 5:\n",
    "            estado_generos_no_deseados[genero] = True\n",
    "            b.style.button_color = 'red'\n",
    "        else:\n",
    "            print(\"Máximo de 5 géneros no deseados alcanzado\")\n",
    "    else:\n",
    "        estado_generos_no_deseados[genero] = None\n",
    "        b.style.button_color = None\n",
    "    actualizar_boton_continuar2()\n",
    "\n",
    "def actualizar_boton_continuar2():\n",
    "    valores = [v for v in estado_generos_no_deseados.values() if v is not None]\n",
    "    btn_continuar2.disabled = not valores\n",
    "\n",
    "def continuar2():\n",
    "    global user_id\n",
    "    index_usuario = dfusuarios[dfusuarios['ID_Usuario'] == user_id].index[0]\n",
    "    valores = [g for g, v in estado_generos_no_deseados.items() if v is not None]\n",
    "    for genero in valores:\n",
    "        col_index = generos.index(genero) + 7\n",
    "        dfusuarios.iat[index_usuario, col_index] = 0\n",
    "    dfusuarios.to_csv('usuarios.csv', index=False)\n",
    "    print(\"Géneros no deseados actualizados\")\n",
    "    with open('user_id.json', 'w') as f:\n",
    "        json.dump({'ID_Usuario': user_id}, f)\n",
    "    with output_vista:\n",
    "        # Redirigir al segundo notebook\n",
    "        display(Javascript('window.location.href = \"ajustepeliculas.ipynb\";'))\n",
    "\n",
    "# Función para inicializar los botones de géneros no deseados\n",
    "def inicializar_botones_no_deseados():\n",
    "    for genero, boton in botones_no_deseados.items():\n",
    "        if estado_generos_deseados[genero] is not None:\n",
    "            # Desactivar el botón si el género ya fue seleccionado como deseado\n",
    "            boton.disabled = True\n",
    "            boton.style.button_color = 'lightgreen'\n",
    "        else:\n",
    "            # Restablecer el estado normal del botón si no fue seleccionado como deseado\n",
    "            boton.disabled = False\n",
    "            boton.style.button_color = None\n",
    "\n",
    "def reiniciarperfil():\n",
    "    global user_id, dfusuarios"
   ]
  },
  {
   "cell_type": "code",
   "execution_count": 5,
   "id": "17a1d920-fbdf-4287-afe4-4cf7997df4cc",
   "metadata": {},
   "outputs": [],
   "source": [
    "# Lista de géneros de películas\n",
    "generos = ['Acción', 'Aventura', 'Animación', 'Comedia', 'Crimen', 'Documental',\n",
    "           'Drama', 'Familiar', 'Fantasía', 'Historia', 'Horror', 'Musical',\n",
    "           'Misterio', 'Romance', 'Ciencia Ficción', 'Suspense', 'Guerra', 'Western']\n",
    "\n",
    "# Obtener la información del usuario\n",
    "user = dfusuarios[dfusuarios['ID_Usuario'] == user_id].iloc[0]"
   ]
  },
  {
   "cell_type": "code",
   "execution_count": 6,
   "id": "c1210d50-f617-48f6-854b-4e64f6cb0d65",
   "metadata": {},
   "outputs": [],
   "source": [
    "# Vista Géneros Deseados\n",
    "\n",
    "# Diccionario para seguir el estado de cada género y su botón asociado\n",
    "estado_generos_deseados = {genero: None for genero in generos}\n",
    "botones_deseados = {genero: widgets.Button(description=genero, layout=widgets.Layout(width='97%')) for genero in generos}\n",
    "\n",
    "output_deseados1 = widgets.Output()\n",
    "with output_deseados1:\n",
    "    print(\"Selecciona hasta 5 géneros en el orden que más te gusten\")\n",
    "\n",
    "# Configurar el GridBox para acomodar los botones\n",
    "grid_deseados = widgets.GridBox(list(botones_deseados.values()), layout=widgets.Layout(grid_template_columns=\"repeat(3, 154px)\"))\n",
    "#display(grid)\n",
    "\n",
    "# Área de salida para mostrar los géneros seleccionados y mensajes\n",
    "output_deseados2 = widgets.Output()\n",
    "#display(output)\n",
    "\n",
    "# Botón de continuar\n",
    "btn_continuar1 = widgets.Button(description=\"Continuar\", disabled=True)\n",
    "btn_continuar1.on_click(lambda b: continuar1())\n",
    "#display(btn_continuar)\n",
    "\n",
    "for boton in botones_deseados.values():\n",
    "    boton.on_click(boton_clicado1)\n",
    "\n",
    "# Grupo de widgets en un VBox\n",
    "vista_deseados = widgets.VBox([output_deseados1, grid_deseados, output_deseados2, btn_continuar1])"
   ]
  },
  {
   "cell_type": "code",
   "execution_count": 7,
   "id": "cdabb1b8-7e9b-4d6b-b529-5ae47dabb5c0",
   "metadata": {},
   "outputs": [],
   "source": [
    "# Vista Géneros No Deseados\n",
    "\n",
    "# Diccionario para seguir el estado de cada género no deseado y su botón asociado\n",
    "estado_generos_no_deseados = {genero: None for genero in generos}\n",
    "botones_no_deseados = {genero: widgets.Button(description=genero, layout=widgets.Layout(width='97%')) for genero in generos}\n",
    "\n",
    "output_no_deseados1 = widgets.Output()\n",
    "with output_no_deseados1:\n",
    "    print(\"Selecciona hasta 5 géneros que menos te gusten\")\n",
    "\n",
    "grid_no_deseados = widgets.GridBox(list(botones_no_deseados.values()), layout=widgets.Layout(grid_template_columns=\"repeat(3, 154px)\"))\n",
    "\n",
    "output_no_deseados2 = widgets.Output()\n",
    "\n",
    "btn_continuar2 = widgets.Button(description=\"Continuar\", disabled=True)\n",
    "btn_continuar2.on_click(lambda b: continuar2())\n",
    "\n",
    "for boton in botones_no_deseados.values():\n",
    "    boton.on_click(boton_clicado2)\n",
    "\n",
    "vista_no_deseados = widgets.VBox([output_no_deseados1, grid_no_deseados, output_no_deseados2, btn_continuar2])\n",
    "\n",
    "#display(vista_no_deseados)\n",
    "#inicializar_botones_no_deseados()"
   ]
  },
  {
   "cell_type": "code",
   "execution_count": 8,
   "id": "c38319f1-9e85-458e-9000-48f1058b1033",
   "metadata": {},
   "outputs": [
    {
     "data": {
      "application/vnd.jupyter.widget-view+json": {
       "model_id": "78d61049e6ae4ec3af42210aa8156f89",
       "version_major": 2,
       "version_minor": 0
      },
      "text/plain": [
       "Output()"
      ]
     },
     "metadata": {},
     "output_type": "display_data"
    }
   ],
   "source": [
    "output_vista = widgets.Output()\n",
    "\n",
    "display(output_vista)\n",
    "\n",
    "reiniciarperfil()\n",
    "\n",
    "MostrarVistaGenDeseados()\n"
   ]
  },
  {
   "cell_type": "code",
   "execution_count": 9,
   "id": "c5391466-354c-47b0-afc7-2720f5207e48",
   "metadata": {},
   "outputs": [],
   "source": [
    "#dfusuarios.head(15)"
   ]
  },
  {
   "cell_type": "code",
   "execution_count": null,
   "id": "e7fc02fa-e2f8-42bf-82ac-fcece68723bd",
   "metadata": {},
   "outputs": [],
   "source": []
  }
 ],
 "metadata": {
  "kernelspec": {
   "display_name": "Python 3 (ipykernel)",
   "language": "python",
   "name": "python3"
  },
  "language_info": {
   "codemirror_mode": {
    "name": "ipython",
    "version": 3
   },
   "file_extension": ".py",
   "mimetype": "text/x-python",
   "name": "python",
   "nbconvert_exporter": "python",
   "pygments_lexer": "ipython3",
   "version": "3.11.7"
  }
 },
 "nbformat": 4,
 "nbformat_minor": 5
}
