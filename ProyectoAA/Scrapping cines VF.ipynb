{
 "cells": [
  {
   "cell_type": "code",
   "execution_count": 1,
   "metadata": {},
   "outputs": [],
   "source": [
    "from selenium import webdriver  # Utilizado para automatizar interacciones del navegador web.\n",
    "from selenium.webdriver.common.by import By  # Ayuda a localizar elementos dentro de una página web usando métodos como ID, XPATH, etc.\n",
    "from selenium.webdriver.support.ui import WebDriverWait  # Permite la implementación de esperas explícitas que esperan a que ciertas condiciones ocurran antes de continuar.\n",
    "from selenium.webdriver.support import expected_conditions as EC  # Se utilizan para definir condiciones específicas como la visibilidad de elementos.\n",
    "from webdriver_manager.chrome import ChromeDriverManager  # Automatiza la gestión del driver de Chrome, asegurando que siempre esté actualizado.\n",
    "from selenium.webdriver.support.ui import Select  # Facilita la interacción con los elementos <select> de HTML para seleccionar opciones.\n",
    "import unicodedata  # Proporciona herramientas para trabajar con datos de texto Unicode, como normalizar formatos de texto.\n",
    "import pandas as pd  # Utilizada para la manipulación y análisis de datos estructurados.\n",
    "import requests  # Permite enviar solicitudes HTTP/1.1 de manera fácil, usada para interactuar con APIs o fetch de datos desde internet.\n",
    "import csv  # Utilizada para leer y escribir en archivos CSV, facilita la manipulación de datos tabulares.\n",
    "import time # Proporciona funciones para trabajar con tiempo, incluyendo funciones de pausa (sleep) y medición de tiempos.\n",
    "import re"
   ]
  },
  {
   "cell_type": "markdown",
   "metadata": {},
   "source": [
    "Se importan las librerías necesarias para manejar el navegador de manera automatizada con Selenium, realizar solicitudes HTTP con requests, manejar datos con pandas, y otras utilidades como csv y unicodedata para trabajar con archivos y texto, respectivamente."
   ]
  },
  {
   "cell_type": "markdown",
   "metadata": {},
   "source": [
    "### Configuración de Selenium, apertura de la página web y extracción de datos"
   ]
  },
  {
   "cell_type": "code",
   "execution_count": 3,
   "metadata": {},
   "outputs": [],
   "source": [
    "# Configuración inicial de Selenium para usar Chrome con opciones predeterminadas\n",
    "options = webdriver.ChromeOptions()\n",
    "driver = webdriver.Chrome(options=options)\n",
    "# URL del sitio web de Cinépolis para la cartelera de Cd. Juárez\n",
    "url = 'https://cinepolis.com/cartelera/cd-juarez'\n",
    "# Abre la URL en el navegador\n",
    "driver.get(url)\n",
    "# Diccionario que relaciona los nombres de los cines con sus valores en la página web\n",
    "cines = {\n",
    "    \"Gran Patio Zaragoza\": \"cinepolis-gran-patio-zaragoza\",\n",
    "    \"Juárez Centro Mall\": \"cinepolis-juarez-centro-mall\",\n",
    "    \"La Monumental\": \"cinepolis-la-monumental\",\n",
    "    \"Las Américas Juárez\": \"cinepolis-las-americas-juarez\",\n",
    "    \"Las Misiones\": \"cinepolis-las-misiones\",\n",
    "    \"Pinocelli\": \"cinepolis-pinocelli\",\n",
    "    \"Plaza Areno\": \"cinepolis-plaza-areno\",\n",
    "    \"Plaza Sendero Las Torres\": \"cinepolis-plaza-sendero-las-torres\",\n",
    "    \"Sendero Ciudad Juárez\": \"cinepolis-sendero-ciudad-juarez\",\n",
    "    \"VIP Las Misiones\": \"cinepolis-vip-las-misiones\"\n",
    "}\n",
    "\n",
    "try:\n",
    "    # Espera hasta que el botón para volver al sitio clásico se habilite para hacerle click y lo presiona\n",
    "    volver_al_sitio_clasico = WebDriverWait(driver, 15).until(\n",
    "        EC.element_to_be_clickable((By.XPATH, \"//div[contains(text(), 'Volver al sitio clásico')]\"))\n",
    "    )\n",
    "    volver_al_sitio_clasico.click()\n",
    "    # Espera hasta que el elemento del menú desplegable de ciudades esté presente para poder seleccionar Cd. Juarez\n",
    "    WebDriverWait(driver, 10).until(\n",
    "        EC.presence_of_element_located((By.ID, \"cmbCiudades\"))\n",
    "    )\n",
    "    select_ciudad_element = driver.find_element(By.ID, \"cmbCiudades\")\n",
    "    select_ciudad = Select(select_ciudad_element)\n",
    "    select_ciudad.select_by_visible_text('Cd. Juárez')\n",
    "    \n",
    "    # Inicializa un diccionario para almacenar la información de las películas\n",
    "    peliculas_info = {}\n",
    "\n",
    "    # Iterar a través de cada cine en el diccionario\n",
    "    for cine_nombre, cine_valor in cines.items():\n",
    "\n",
    "        # Espera hasta que el menú de cines esté presente\n",
    "        WebDriverWait(driver, 10).until(\n",
    "            EC.presence_of_element_located((By.ID, \"cmbComplejos\"))\n",
    "        )\n",
    "        select_cine_element = driver.find_element(By.ID, \"cmbComplejos\")\n",
    "        select_cine = Select(select_cine_element)\n",
    "        select_cine.select_by_value(cine_valor)\n",
    "\n",
    "        time.sleep(5)  # Aseguramos la carga completa esperando 5 segundos\n",
    "\n",
    "        # Recogemos información de títulos, clasificaciones, títulos originales y duraciones\n",
    "        titulos = WebDriverWait(driver, 30).until(\n",
    "            EC.presence_of_all_elements_located((By.CSS_SELECTOR, 'a.datalayer-movie.ng-binding'))\n",
    "        )\n",
    "        clasificaciones = WebDriverWait(driver, 30).until(\n",
    "            EC.presence_of_all_elements_located((By.CSS_SELECTOR, 'span.clasificacion.ng-binding'))\n",
    "        )\n",
    "        titulos_originales = WebDriverWait(driver, 30).until(\n",
    "            EC.presence_of_all_elements_located((By.CSS_SELECTOR, 'span.data-layer'))\n",
    "        )\n",
    "        duraciones = WebDriverWait(driver, 30).until(\n",
    "            EC.presence_of_all_elements_located((By.CSS_SELECTOR, 'span.duracion.ng-binding'))\n",
    "        )\n",
    "        # Procesa cada película obtenida y almacena su información\n",
    "        for titulo, clasificacion, titulo_original, duracion in zip(titulos, clasificaciones, titulos_originales, duraciones):\n",
    "            # Extraemos y limpiamos el texto de los atributos, eliminando espacios en blanco al inicio y al final\n",
    "            titulo_text = titulo.text.strip() \n",
    "            clasificacion_text = clasificacion.text.strip()\n",
    "            titulo_original_text = titulo_original.get_attribute('data-titulooriginal').split(\" (\")[0] # Extrae el valor del atributo 'data-titulooriginal', lo divide en \" (\" y toma la primera parte para obtener solo el título principal\n",
    "            duracion_text = duracion.text.replace(\" min\", \"\").strip()  # Limpia la duración y elimina \" min\"\n",
    "            # Verifica si cualquiera de los textos extraídos está vacío, y si es así, salta al próximo ciclo del bucle\n",
    "            if not titulo_text or not clasificacion_text or not titulo_original_text:\n",
    "                continue\n",
    "\n",
    "            if titulo_text not in peliculas_info:\n",
    "                # Si el título no está, inicializa un nuevo diccionario para esa película con su información básica y un diccionario interno para contar presencias en cines\n",
    "                peliculas_info[titulo_text] = {\n",
    "                    'titulo_original': titulo_original_text,\n",
    "                    'clasificacion': clasificacion_text,\n",
    "                    'duracion': duracion_text,  # Guarda la duracion limpia solo en numeros\n",
    "                    **{c: 0 for c in cines.keys()} # Crea un contador inicializado en 0 para cada cine\n",
    "                }\n",
    "            # Marca que la película está presente en el cine actual incrementando el contador en 1\n",
    "            peliculas_info[titulo_text][cine_nombre] = 1\n",
    "# Captura cualquier excepción que ocurra durante la ejecución del bloque \"try\"\n",
    "except Exception as e:\n",
    "    print(f\"Error al procesar: {e}\")\n",
    "# Asegura que el navegador se cierre al finalizar la ejecución.\n",
    "finally:\n",
    "    driver.quit()\n"
   ]
  },
  {
   "cell_type": "markdown",
   "metadata": {},
   "source": [
    "En este codigo Selenium automatiza la interacción con la página de cartelera de cine de Cinépolis en Cd. Juárez. Inicia configurando y lanzando un navegador Chrome, y navega a la URL específica. Utiliza esperas explícitas para manejar elementos dinámicos, como el botón \"Volver al sitio clásico\", que hace clic para asegurar la interfaz clásica, donde todos los datos necesarios estan disponibles. Posteriormente, refresca y selecciona opciones específicas de ciudad y cine de menús desplegables, asegurando recargar cada elemento antes de interactuar para evitar referencias obsoletas. Además, espera hasta que todos los elementos relevantes como títulos, clasificaciones y títulos originales estén presentes en la página, utilizando un timeout de 30 segundos para asegurarse de que la página haya cargado completamente. Se recopila la información de las películas, garantizando que no haya datos faltantes. El script finaliza cerrando el navegador para liberar recursos, asegurando un cierre adecuado del proceso de automatización."
   ]
  },
  {
   "cell_type": "markdown",
   "metadata": {},
   "source": [
    "### Crear DataFrame para visualización inicial de los datos y guardar los datos extraídos en un archivo CSV"
   ]
  },
  {
   "cell_type": "code",
   "execution_count": 4,
   "metadata": {},
   "outputs": [
    {
     "name": "stdout",
     "output_type": "stream",
     "text": [
      "Datos guardados exitosamente en 'peliculas_cartelera.csv'.\n",
      "                                               titulo  \\\n",
      "0                                  Amigos Imaginarios   \n",
      "1                             El Hombre de Los Sueños   \n",
      "2               El Planeta de Los Simios: Nuevo Reino   \n",
      "3                                          Firma Aquí   \n",
      "4                             Garfield: Fuera de Casa   \n",
      "5                    Godzilla Y Kong:El Nuevo Imperio   \n",
      "6           Gurren Lagann:Childhood's End,La película   \n",
      "7               Monkey Man: El Despertar de La Bestia   \n",
      "8                                   Profesión Peligro   \n",
      "9                                  Tarot de La Muerte   \n",
      "10                                        V de Victor   \n",
      "11                             Jugaremos En El Bosque   \n",
      "12                                              Frida   \n",
      "13                                        Desafiantes   \n",
      "14  Gurren Lagann: The Lights in the Sky Are Stars...   \n",
      "15                             Una Jungla de Locura 2   \n",
      "16                                La Primera Profecía   \n",
      "\n",
      "                                      titulo_original clasificacion duracion  \\\n",
      "0                                                  IF             A      104   \n",
      "1                                      Dream Scenario           B15      104   \n",
      "2                   Kingdom of The Planet of The Apes             B      145   \n",
      "3                                          Firma Aquí             B      103   \n",
      "4                                  The Garfield Movie            AA      101   \n",
      "5                     Godzilla y Kong: The New Empire             B      115   \n",
      "6   Gurren Lagann the Movie Childhood'sEnd(Japón,2...             B      120   \n",
      "7                                          Monkey Man             C      121   \n",
      "8                                        The Fall Guy             B      126   \n",
      "9                                               Tarot           B15       92   \n",
      "10                                        V de Victor             A      100   \n",
      "11                             Jugaremos En El Bosque           B15       96   \n",
      "12                                              Frida             A       87   \n",
      "13                                        Challengers           B15      131   \n",
      "14                 Gurren Lagann the Movie:The Lights             B      126   \n",
      "15                     The Jungle Bunch 2: World Tour            AA       89   \n",
      "16                                     The First Omen           B15      120   \n",
      "\n",
      "    Gran Patio Zaragoza  Juárez Centro Mall  La Monumental  \\\n",
      "0                     1                   1              1   \n",
      "1                     1                   0              0   \n",
      "2                     1                   1              1   \n",
      "3                     1                   0              0   \n",
      "4                     1                   1              1   \n",
      "5                     1                   0              0   \n",
      "6                     1                   0              1   \n",
      "7                     1                   0              0   \n",
      "8                     1                   0              1   \n",
      "9                     1                   1              1   \n",
      "10                    1                   1              1   \n",
      "11                    0                   1              0   \n",
      "12                    0                   0              1   \n",
      "13                    0                   0              0   \n",
      "14                    0                   0              0   \n",
      "15                    0                   0              0   \n",
      "16                    0                   0              0   \n",
      "\n",
      "    Las Américas Juárez  Las Misiones  Pinocelli  Plaza Areno  \\\n",
      "0                     1             1          1            1   \n",
      "1                     0             1          0            0   \n",
      "2                     1             1          1            1   \n",
      "3                     0             1          0            0   \n",
      "4                     1             1          1            1   \n",
      "5                     0             0          0            0   \n",
      "6                     0             1          0            0   \n",
      "7                     0             1          0            0   \n",
      "8                     0             1          0            0   \n",
      "9                     1             1          1            1   \n",
      "10                    1             1          1            1   \n",
      "11                    0             1          0            1   \n",
      "12                    0             1          0            0   \n",
      "13                    0             1          0            0   \n",
      "14                    0             1          0            0   \n",
      "15                    0             1          0            0   \n",
      "16                    0             0          0            0   \n",
      "\n",
      "    Plaza Sendero Las Torres  Sendero Ciudad Juárez  VIP Las Misiones  \n",
      "0                          1                      1                 1  \n",
      "1                          1                      0                 1  \n",
      "2                          1                      1                 1  \n",
      "3                          1                      1                 0  \n",
      "4                          1                      1                 1  \n",
      "5                          1                      0                 0  \n",
      "6                          1                      0                 0  \n",
      "7                          1                      0                 0  \n",
      "8                          1                      1                 1  \n",
      "9                          1                      1                 1  \n",
      "10                         1                      1                 1  \n",
      "11                         1                      1                 0  \n",
      "12                         1                      0                 0  \n",
      "13                         0                      0                 1  \n",
      "14                         0                      0                 0  \n",
      "15                         1                      0                 0  \n",
      "16                         1                      0                 0  \n"
     ]
    }
   ],
   "source": [
    "# Se convierte el diccionario 'peliculas_info' en un DataFrame de pandas. Se creaa una lista de diccionarios, donde cada clave del diccionario original se convierte en una columna 'titulo', y el resto de los datos se mantiene como columnas adicionales.\n",
    "df = pd.DataFrame([{'titulo': k, **v} for k, v in peliculas_info.items()])\n",
    "\n",
    "# Se eliminan las filas duplicadas en el DataFrame para asegurar que cada película aparece solo una vez.\n",
    "df = df.drop_duplicates()\n",
    "\n",
    "# Se guarda el DataFrame en un archivo CSV llamado 'peliculas_cartelera.csv', sin guardar el índice del DataFrame y utilizando la codificación 'utf-8-sig' que es útil para mantener la integridad de los caracteres especiales en el CSV.\n",
    "df.to_csv('peliculas_cartelera.csv', index=False, encoding='utf-8-sig')\n",
    "\n",
    "# Se imprime un mensaje para confirmar que los datos han sido guardados exitosamente en el archivo especificado.\n",
    "print(\"Datos guardados exitosamente en 'peliculas_cartelera.csv'.\")\n",
    "\n",
    "# Se muestra el DataFrame 'df' para visualizar su contenido y confirmar que los datos están correctos y listos.\n",
    "print(df)\n"
   ]
  },
  {
   "cell_type": "markdown",
   "metadata": {},
   "source": [
    "Esta celda de código transforma un diccionario peliculas_info, que contiene información sobre películas, en un DataFrame de pandas. Cada entrada del diccionario se convierte en una fila del DataFrame, donde la clave del diccionario es el título de la película y sus valores asociados se convierten en columnas adicionales. Posteriormente, elimina cualquier fila duplicada para asegurar la unicidad de cada entrada. Luego, el DataFrame resultante se guarda en un archivo CSV titulado 'peliculas_cartelera.csv', sin incluir los índices y utilizando la codificación 'utf-8-sig' para mantener la correcta visualización de caracteres especiales. Al finalizar, imprime un mensaje confirmando que los datos han sido guardados correctamente y muestra el contenido del DataFrame para verificación. Este proceso es crucial para documentar y analizar la disponibilidad de películas en cines específicos."
   ]
  },
  {
   "cell_type": "markdown",
   "metadata": {},
   "source": [
    "### Funciones de apoyo para integración con API de TMDb"
   ]
  },
  {
   "cell_type": "code",
   "execution_count": 5,
   "metadata": {},
   "outputs": [],
   "source": [
    "api_key = \"b88b2a0c6be96e41cfd258225d190f0b\""
   ]
  },
  {
   "cell_type": "markdown",
   "metadata": {},
   "source": [
    "Se establece una variable api_key con la clave de API necesaria para autenticarse y hacer solicitudes a la API de The Movie Database (TMDb). Esta clave es esencial para acceder a los recursos de la API que requieren autenticación y se utiliza en las siguientes funciones para realizar las peticiones HTTP pertinentes."
   ]
  },
  {
   "cell_type": "markdown",
   "metadata": {},
   "source": [
    "### Función para Normalizar Texto"
   ]
  },
  {
   "cell_type": "code",
   "execution_count": 6,
   "metadata": {},
   "outputs": [],
   "source": [
    "def normalizar_texto(texto):\n",
    "    # Convertir texto a minúsculas y remover tildes\n",
    "    texto = unicodedata.normalize('NFKD', texto).encode('ascii', 'ignore').decode('ascii')\n",
    "    texto = texto.lower()\n",
    "    texto = texto.replace(\" \", \"_\")\n",
    "    return texto"
   ]
  },
  {
   "cell_type": "markdown",
   "metadata": {},
   "source": [
    "Esta función toma una cadena de texto y la normaliza: convierte el texto a minúsculas, elimina caracteres especiales (como tildes) y reemplaza los espacios por guiones bajos. Es útil para preparar texto para consultas consistentes, especialmente cuando los nombres de género de películas necesitan ser estandarizados antes de ser utilizados en URLs o claves."
   ]
  },
  {
   "cell_type": "markdown",
   "metadata": {},
   "source": [
    "### Función para Obtener el Mapeo de Géneros de Películas"
   ]
  },
  {
   "cell_type": "code",
   "execution_count": 7,
   "metadata": {},
   "outputs": [],
   "source": [
    "def obtener_mapeo_generos():\n",
    "    # Construye la URL para obtener los géneros de películas desde TMDb usando la clave de API y especificando el idioma español\n",
    "    url_generos = f\"https://api.themoviedb.org/3/genre/movie/list?api_key={api_key}&language=es-ES\"\n",
    "    # Se realiza la solicitud HTTP GET a la API\n",
    "    response = requests.get(url_generos)  \n",
    "    # Se verifica si la respuesta es exitosa\n",
    "    if response.status_code == 200:\n",
    "        # Se extrae la lista de géneros del JSON de respuesta\n",
    "        generos = response.json()['genres']  \n",
    "        # Se inicializa un diccionario para almacenar el mapeo de géneros\n",
    "        mapeo_generos = {}\n",
    "        # Se itera sobre cada género\n",
    "        for genero in generos:  \n",
    "            # Se normaliza el nombre del género\n",
    "            clave_normalizada = normalizar_texto(genero['name'])\n",
    "            # Se excluye los géneros tipo 'Película de TV'\n",
    "            if clave_normalizada != \"pelicula_de_tv\":  \n",
    "                # Se asigna un prefijo y guarda en el diccionario\n",
    "                mapeo_generos[genero['id']] = f\"p_{clave_normalizada}\" \n",
    "        return mapeo_generos  # Se devuelve el diccionario de mapeo de géneros\n",
    "    else:\n",
    "        raise ValueError(\"Error al obtener los géneros desde TMDb\")  \n"
   ]
  },
  {
   "cell_type": "markdown",
   "metadata": {},
   "source": [
    "Esta función se conecta con la API de The Movie Database para obtener un listado de géneros de películas, los normaliza para tener un formato consistente y los almacena en un diccionario. Este mapeo de géneros es útil para categorizar películas en aplicaciones y análisis de datos."
   ]
  },
  {
   "cell_type": "markdown",
   "metadata": {},
   "source": [
    "### Funcion para obtener detalles de las peliculas"
   ]
  },
  {
   "cell_type": "code",
   "execution_count": 8,
   "metadata": {},
   "outputs": [],
   "source": [
    "def obtener_detalle_pelicula(titulo, idioma):\n",
    "    url_busqueda = f\"https://api.themoviedb.org/3/search/movie?api_key={api_key}&query={titulo}&language={idioma}\"\n",
    "    response = requests.get(url_busqueda)\n",
    "    if response.status_code == 200:\n",
    "        # Extrae la lista de resultados del JSON de respuesta\n",
    "        resultados = response.json().get('results', [])\n",
    "        if resultados:\n",
    "            # Devuelve el primer resultado si existe\n",
    "            return resultados[0]  \n",
    "    # Devuelve None si no hay resultados o la respuesta no es exitosa\n",
    "    return None"
   ]
  },
  {
   "cell_type": "markdown",
   "metadata": {},
   "source": [
    "Esta función realiza una búsqueda en la API de The Movie Database utilizando el título de una película y un idioma específico. Retorna el primer resultado de la búsqueda, proporcionando detalles de la película que pueden incluir datos como sinopsis, clasificaciones, y más, lo cual es esencial para aplicaciones que requieren información detallada sobre películas específicas."
   ]
  },
  {
   "cell_type": "markdown",
   "metadata": {},
   "source": [
    "### Función para buscar y compilar detalles de películas"
   ]
  },
  {
   "cell_type": "code",
   "execution_count": 9,
   "metadata": {},
   "outputs": [],
   "source": [
    "def buscar_detalle_pelicula(titulo_original, titulo_espanol, mapeo_generos):\n",
    "    # Intenta obtener detalles de la película original en inglés\n",
    "    resultado = obtener_detalle_pelicula(titulo_original, \"en-US\")\n",
    "    if not resultado:\n",
    "        # Si no encuentra en inglés, busca en español\n",
    "        resultado = obtener_detalle_pelicula(titulo_espanol, \"es-ES\")\n",
    "\n",
    "    if resultado:\n",
    "        # Inicializa un diccionario para los géneros de la película con valores en 0\n",
    "        generos_pelicula = {gen: 0 for gen in mapeo_generos.values()} \n",
    "        # Recorre los géneros de la película obtenida y actualiza el diccionario si el género está presente\n",
    "        for gen_id in resultado['genre_ids']:\n",
    "            if gen_id in mapeo_generos:\n",
    "                generos_pelicula[mapeo_generos[gen_id]] = 1  # Marca el género como presente\n",
    "        # Obtiene el promedio de votos y lo convierte a una escala de 100\n",
    "        user_score = resultado.get('vote_average', 0) * 10 \n",
    "        # Devuelve una lista de valores de géneros y el puntaje de usuario\n",
    "        return list(generos_pelicula.values()) + [user_score]\n",
    "\n",
    "    # Devuelve una lista de ceros para los géneros y el puntaje si no se encuentra información de la película\n",
    "    return [0] * len(mapeo_generos) + [0]\n"
   ]
  },
  {
   "cell_type": "markdown",
   "metadata": {},
   "source": [
    "Esta función busca los detalles de una película tanto por su título original en inglés como por su título en español utilizando la API de The Movie Database. Se enfoca en recopilar la información sobre los géneros de la película y su puntuación de usuario. Si se encuentra la película, devuelve una lista de géneros indicando la presencia (1) o ausencia (0) de cada género, seguido de la puntuación de usuario ajustada a una escala de 100. Si no se encuentran resultados, la función devuelve una lista de ceros para los géneros y la puntuación. Esta estructura de datos es útil para análisis o aplicaciones que necesiten clasificar películas según su contenido de género y popularidad."
   ]
  },
  {
   "cell_type": "markdown",
   "metadata": {},
   "source": [
    "### Preparación y Carga de Datos"
   ]
  },
  {
   "cell_type": "code",
   "execution_count": 10,
   "metadata": {},
   "outputs": [],
   "source": [
    "# Leer el archivo CSV inicial\n",
    "df_csv = pd.read_csv('peliculas_cartelera.csv')\n",
    "datos_peliculas = []\n",
    "\n",
    "# Obtener el mapeo de géneros\n",
    "mapeo_generos = obtener_mapeo_generos()"
   ]
  },
  {
   "cell_type": "markdown",
   "metadata": {},
   "source": [
    "Se cargan los datos iniciales de las películas desde un archivo CSV y de obtener el mapeo de géneros utilizando una función que accede a la API de The Movie Database. Esto prepara el entorno con los datos necesarios para el procesamiento y análisis siguiente"
   ]
  },
  {
   "cell_type": "markdown",
   "metadata": {},
   "source": [
    "### Procesamiento de Datos"
   ]
  },
  {
   "cell_type": "code",
   "execution_count": 11,
   "metadata": {},
   "outputs": [],
   "source": [
    "# Procesar cada fila del archivo CSV\n",
    "for _, fila in df_csv.iterrows():\n",
    "    titulo = fila['titulo']\n",
    "    titulo_original = fila['titulo_original']\n",
    "    clasificacion = fila['clasificacion']\n",
    "    duracion = fila['duracion']\n",
    "    detalles_pelicula = buscar_detalle_pelicula(titulo_original, titulo, mapeo_generos)\n",
    "    detalles_pelicula += [fila[cine] for cine in df_csv.columns if cine not in ['titulo', 'titulo_original', 'clasificacion', 'duracion']]\n",
    "    datos_peliculas.append([titulo, clasificacion, titulo_original, duracion] + detalles_pelicula)"
   ]
  },
  {
   "cell_type": "markdown",
   "metadata": {},
   "source": [
    "Se procesa cada registro del DataFrame original para enriquecer los datos con información detallada sobre géneros y puntuaciones obtenidas a través de la API, y se agregan a una lista para posterior creación de un nuevo DataFrame"
   ]
  },
  {
   "cell_type": "markdown",
   "metadata": {},
   "source": [
    "### Creación y almacenamiento del DataFrame del catalogo de peliculas para procesamiento"
   ]
  },
  {
   "cell_type": "code",
   "execution_count": 12,
   "metadata": {},
   "outputs": [],
   "source": [
    "# Crear la lista de nombres de columnas, omitiendo el prefijo \"Cinépolis \" y normalizando el texto\n",
    "cines_columnas = [(cine.replace(\"Cinépolis \", \"\")) for cine in df_csv.columns if cine not in ['titulo', 'titulo_original', 'clasificacion', 'duracion']]\n",
    "columnas = ['titulo', 'clasificacion', 'titulo_original', 'duracion'] + list(mapeo_generos.values()) + ['score'] + cines_columnas"
   ]
  },
  {
   "cell_type": "markdown",
   "metadata": {},
   "source": [
    "Se crea una lista de nombres de columnas para un DataFrame, omitiendo el prefijo \"Cinépolis \" y normalizando el texto (convirtiéndolo a minúsculas, eliminando tildes y reemplazando espacios con guiones bajos). La lista resultante incluye columnas para títulos, clasificaciones, títulos originales, duración, géneros de películas, puntuación y cines."
   ]
  },
  {
   "cell_type": "code",
   "execution_count": 13,
   "metadata": {},
   "outputs": [
    {
     "name": "stdout",
     "output_type": "stream",
     "text": [
      "                                               titulo clasificacion  \\\n",
      "0                                  Amigos Imaginarios             A   \n",
      "1                             El Hombre de Los Sueños           B15   \n",
      "2               El Planeta de Los Simios: Nuevo Reino             B   \n",
      "3                                          Firma Aquí             B   \n",
      "4                             Garfield: Fuera de Casa            AA   \n",
      "5                    Godzilla Y Kong:El Nuevo Imperio             B   \n",
      "6           Gurren Lagann:Childhood's End,La película             B   \n",
      "7               Monkey Man: El Despertar de La Bestia             C   \n",
      "8                                   Profesión Peligro             B   \n",
      "9                                  Tarot de La Muerte           B15   \n",
      "10                                        V de Victor             A   \n",
      "11                             Jugaremos En El Bosque           B15   \n",
      "12                                              Frida             A   \n",
      "13                                        Desafiantes           B15   \n",
      "14  Gurren Lagann: The Lights in the Sky Are Stars...             B   \n",
      "15                             Una Jungla de Locura 2            AA   \n",
      "16                                La Primera Profecía           B15   \n",
      "\n",
      "                                      titulo_original  duracion  p_accion  \\\n",
      "0                                                  IF       104         0   \n",
      "1                                      Dream Scenario       104         0   \n",
      "2                   Kingdom of The Planet of The Apes       145         1   \n",
      "3                                          Firma Aquí       103         0   \n",
      "4                                  The Garfield Movie       101         0   \n",
      "5                     Godzilla y Kong: The New Empire       115         1   \n",
      "6   Gurren Lagann the Movie Childhood'sEnd(Japón,2...       120         0   \n",
      "7                                          Monkey Man       121         1   \n",
      "8                                        The Fall Guy       126         1   \n",
      "9                                               Tarot        92         0   \n",
      "10                                        V de Victor       100         0   \n",
      "11                             Jugaremos En El Bosque        96         0   \n",
      "12                                              Frida        87         0   \n",
      "13                                        Challengers       131         0   \n",
      "14                 Gurren Lagann the Movie:The Lights       126         0   \n",
      "15                     The Jungle Bunch 2: World Tour        89         0   \n",
      "16                                     The First Omen       120         0   \n",
      "\n",
      "    p_aventura  p_animacion  p_comedia  p_crimen  p_documental  p_drama  \\\n",
      "0            0            1          1         0             0        0   \n",
      "1            0            0          1         0             0        0   \n",
      "2            1            0          0         0             0        0   \n",
      "3            0            0          1         0             0        1   \n",
      "4            0            1          1         0             0        0   \n",
      "5            1            0          0         0             0        0   \n",
      "6            0            0          0         0             0        0   \n",
      "7            0            0          0         0             0        0   \n",
      "8            0            0          1         0             0        0   \n",
      "9            0            0          0         0             0        0   \n",
      "10           0            0          1         0             0        0   \n",
      "11           0            0          0         0             0        0   \n",
      "12           0            0          0         0             1        0   \n",
      "13           0            0          0         0             0        1   \n",
      "14           0            0          0         0             0        0   \n",
      "15           1            1          1         0             0        0   \n",
      "16           0            0          0         0             0        0   \n",
      "\n",
      "    p_familia  p_fantasia  p_historia  p_terror  p_musica  p_misterio  \\\n",
      "0           1           1           0         0         0           0   \n",
      "1           0           1           0         0         0           0   \n",
      "2           0           0           0         0         0           0   \n",
      "3           0           0           0         0         0           0   \n",
      "4           1           0           0         0         0           0   \n",
      "5           0           0           0         0         0           0   \n",
      "6           0           0           0         0         0           0   \n",
      "7           0           0           0         0         0           0   \n",
      "8           0           0           0         0         0           0   \n",
      "9           0           0           0         1         0           0   \n",
      "10          0           0           0         0         0           0   \n",
      "11          0           0           0         1         0           0   \n",
      "12          0           0           0         0         0           0   \n",
      "13          0           0           0         0         0           0   \n",
      "14          0           0           0         0         0           0   \n",
      "15          1           0           0         0         0           0   \n",
      "16          0           0           0         1         0           0   \n",
      "\n",
      "    p_romance  p_ciencia_ficcion  p_suspense  p_belica  p_western  score  \\\n",
      "0           0                  0           0         0          0     72   \n",
      "1           0                  0           0         0          0     67   \n",
      "2           0                  1           0         0          0     72   \n",
      "3           1                  1           0         0          0     73   \n",
      "4           0                  0           0         0          0     67   \n",
      "5           0                  1           0         0          0     72   \n",
      "6           0                  0           0         0          0      0   \n",
      "7           0                  0           1         0          0     72   \n",
      "8           0                  0           0         0          0     74   \n",
      "9           0                  0           1         0          0     54   \n",
      "10          0                  0           0         0          0      0   \n",
      "11          0                  0           0         0          0      0   \n",
      "12          0                  0           0         0          0     79   \n",
      "13          1                  0           0         0          0     73   \n",
      "14          0                  0           0         0          0      0   \n",
      "15          0                  0           0         0          0     73   \n",
      "16          0                  0           0         0          0     66   \n",
      "\n",
      "    Gran Patio Zaragoza  Juárez Centro Mall  La Monumental  \\\n",
      "0                     1                   1              1   \n",
      "1                     1                   0              0   \n",
      "2                     1                   1              1   \n",
      "3                     1                   0              0   \n",
      "4                     1                   1              1   \n",
      "5                     1                   0              0   \n",
      "6                     1                   0              1   \n",
      "7                     1                   0              0   \n",
      "8                     1                   0              1   \n",
      "9                     1                   1              1   \n",
      "10                    1                   1              1   \n",
      "11                    0                   1              0   \n",
      "12                    0                   0              1   \n",
      "13                    0                   0              0   \n",
      "14                    0                   0              0   \n",
      "15                    0                   0              0   \n",
      "16                    0                   0              0   \n",
      "\n",
      "    Las Américas Juárez  Las Misiones  Pinocelli  Plaza Areno  \\\n",
      "0                     1             1          1            1   \n",
      "1                     0             1          0            0   \n",
      "2                     1             1          1            1   \n",
      "3                     0             1          0            0   \n",
      "4                     1             1          1            1   \n",
      "5                     0             0          0            0   \n",
      "6                     0             1          0            0   \n",
      "7                     0             1          0            0   \n",
      "8                     0             1          0            0   \n",
      "9                     1             1          1            1   \n",
      "10                    1             1          1            1   \n",
      "11                    0             1          0            1   \n",
      "12                    0             1          0            0   \n",
      "13                    0             1          0            0   \n",
      "14                    0             1          0            0   \n",
      "15                    0             1          0            0   \n",
      "16                    0             0          0            0   \n",
      "\n",
      "    Plaza Sendero Las Torres  Sendero Ciudad Juárez  VIP Las Misiones  \n",
      "0                          1                      1                 1  \n",
      "1                          1                      0                 1  \n",
      "2                          1                      1                 1  \n",
      "3                          1                      1                 0  \n",
      "4                          1                      1                 1  \n",
      "5                          1                      0                 0  \n",
      "6                          1                      0                 0  \n",
      "7                          1                      0                 0  \n",
      "8                          1                      1                 1  \n",
      "9                          1                      1                 1  \n",
      "10                         1                      1                 1  \n",
      "11                         1                      1                 0  \n",
      "12                         1                      0                 0  \n",
      "13                         0                      0                 1  \n",
      "14                         0                      0                 0  \n",
      "15                         1                      0                 0  \n",
      "16                         1                      0                 0  \n",
      "La tabla ha sido guardada en 'peliculas_clasificadas.csv'.\n"
     ]
    }
   ],
   "source": [
    "# Crear el DataFrame con todas las columnas necesarias\n",
    "df_peliculas = pd.DataFrame(datos_peliculas, columns=columnas)\n",
    "\n",
    "# Redondear el score a un número entero\n",
    "df_peliculas['score'] = df_peliculas['score'].round().astype(int)\n",
    "\n",
    "# Mostrar todas las columnas y filas\n",
    "pd.set_option('display.max_columns', None)\n",
    "pd.set_option('display.max_rows', None)\n",
    "print(df_peliculas)\n",
    "\n",
    "# Guardar el DataFrame en un archivo CSV\n",
    "df_peliculas.to_csv('peliculas_clasificadas.csv', index=False, encoding='utf-8-sig')\n",
    "print(\"La tabla ha sido guardada en 'peliculas_clasificadas.csv'.\")"
   ]
  },
  {
   "cell_type": "markdown",
   "metadata": {},
   "source": [
    "Consolidamos los datos procesados en un nuevo DataFrame, realizamos limpiezas finales como el redondeo del score, y finalmente guardamos el DataFrame en un nuevo archivo CSV para su uso o análisis futuros. También se configura la visualización en pandas para facilitar la revisión de los datos completos."
   ]
  }
 ],
 "metadata": {
  "kernelspec": {
   "display_name": "base",
   "language": "python",
   "name": "python3"
  },
  "language_info": {
   "codemirror_mode": {
    "name": "ipython",
    "version": 3
   },
   "file_extension": ".py",
   "mimetype": "text/x-python",
   "name": "python",
   "nbconvert_exporter": "python",
   "pygments_lexer": "ipython3",
   "version": "3.11.8"
  }
 },
 "nbformat": 4,
 "nbformat_minor": 2
}
