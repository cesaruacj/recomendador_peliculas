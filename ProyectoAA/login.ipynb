{
 "cells": [
  {
   "cell_type": "code",
   "execution_count": 1,
   "id": "388af66e-e20b-4122-ad50-63da8f3b9afa",
   "metadata": {},
   "outputs": [
    {
     "data": {
      "application/vnd.jupyter.widget-view+json": {
       "model_id": "b80c77f582c645ea80c89e9ec5de6691",
       "version_major": 2,
       "version_minor": 0
      },
      "text/plain": [
       "Output()"
      ]
     },
     "metadata": {},
     "output_type": "display_data"
    },
    {
     "data": {
      "application/vnd.jupyter.widget-view+json": {
       "model_id": "e75424b717e94fcc8c891dc22c697d5b",
       "version_major": 2,
       "version_minor": 0
      },
      "text/plain": [
       "Text(value='', description='Usuario:')"
      ]
     },
     "metadata": {},
     "output_type": "display_data"
    },
    {
     "data": {
      "application/vnd.jupyter.widget-view+json": {
       "model_id": "f650269bb5f047d5b37490bf0462f166",
       "version_major": 2,
       "version_minor": 0
      },
      "text/plain": [
       "Password(description='Password:')"
      ]
     },
     "metadata": {},
     "output_type": "display_data"
    },
    {
     "data": {
      "application/vnd.jupyter.widget-view+json": {
       "model_id": "297b1fbad3424cdfb48d2865493209e4",
       "version_major": 2,
       "version_minor": 0
      },
      "text/plain": [
       "Button(description='Iniciar sesión', style=ButtonStyle())"
      ]
     },
     "metadata": {},
     "output_type": "display_data"
    },
    {
     "data": {
      "application/vnd.jupyter.widget-view+json": {
       "model_id": "8f0d0d4d7e7d4a46a18d567e058343b1",
       "version_major": 2,
       "version_minor": 0
      },
      "text/plain": [
       "Output()"
      ]
     },
     "metadata": {},
     "output_type": "display_data"
    },
    {
     "data": {
      "application/vnd.jupyter.widget-view+json": {
       "model_id": "d804a01aff1c43c6b637c7b3c0cc6ed0",
       "version_major": 2,
       "version_minor": 0
      },
      "text/plain": [
       "Button(description='Registrarse', style=ButtonStyle())"
      ]
     },
     "metadata": {},
     "output_type": "display_data"
    }
   ],
   "source": [
    "import ipywidgets as widgets\n",
    "from IPython.display import display, Javascript\n",
    "import pandas as pd\n",
    "import json\n",
    "\n",
    "# Leer el archivo CSV\n",
    "df = pd.read_csv('usuarios.csv')\n",
    "\n",
    "# Crear widgets para ingresar nombre de usuario y contraseña\n",
    "mensaje1 = widgets.Output()\n",
    "with mensaje1:\n",
    "    print(\"Recomendador de películas\\n\")\n",
    "usuario = widgets.Text(description=\"Usuario:\")\n",
    "password = widgets.Password(description=\"Password:\")\n",
    "boton_login = widgets.Button(description=\"Iniciar sesión\")\n",
    "mensaje2 = widgets.Output()\n",
    "with mensaje2:\n",
    "    print(\" \")\n",
    "boton_signup = widgets.Button(description=\"Registrarse\")\n",
    "\n",
    "# Función para verificar las credenciales y redirigir\n",
    "def iniciar_sesion(b):\n",
    "    with mensaje2:\n",
    "        mensaje2.clear_output()\n",
    "        if not usuario.value or not password.value:\n",
    "            print(\"Por favor, complete ambos campos.\")\n",
    "        else:\n",
    "            user = df[(df['Nombre'] == usuario.value) & (df['Password'] == password.value)]\n",
    "            if not user.empty:\n",
    "                # Convertir el ID_Usuario a int\n",
    "                user_id = int(user['ID_Usuario'].values[0])\n",
    "                # Guardar el ID_Usuario en un archivo JSON para usarlo en el siguiente notebook\n",
    "                with open('user_id.json', 'w') as f:\n",
    "                    json.dump({'ID_Usuario': user_id}, f)\n",
    "                # Redirigir al segundo notebook\n",
    "                display(Javascript('window.location.href = \"home.ipynb\";'))\n",
    "            else:\n",
    "                print(\"Usuario o password incorrectos.\")\n",
    "\n",
    "def direccionar_registro(b):\n",
    "    with mensaje2:\n",
    "        mensaje2.clear_output()\n",
    "        print(\"Redireccionando\")\n",
    "        display(Javascript('window.location.href = \"registro.ipynb\";'))\n",
    "    \n",
    "# Vincular el botón con la función de inicio de sesión\n",
    "boton_login.on_click(iniciar_sesion)\n",
    "\n",
    "boton_signup.on_click(direccionar_registro)\n",
    "\n",
    "# Mostrar widgets\n",
    "display(mensaje1, usuario, password, boton_login, mensaje2, boton_signup)\n"
   ]
  },
  {
   "cell_type": "code",
   "execution_count": null,
   "id": "e747ae4d-ac77-48fb-a408-f1c749c2d8f7",
   "metadata": {},
   "outputs": [],
   "source": []
  },
  {
   "cell_type": "code",
   "execution_count": null,
   "id": "d3cd72a1-1ad5-4c75-aca3-d2ed92cb9e34",
   "metadata": {},
   "outputs": [],
   "source": []
  }
 ],
 "metadata": {
  "kernelspec": {
   "display_name": "Python 3 (ipykernel)",
   "language": "python",
   "name": "python3"
  },
  "language_info": {
   "codemirror_mode": {
    "name": "ipython",
    "version": 3
   },
   "file_extension": ".py",
   "mimetype": "text/x-python",
   "name": "python",
   "nbconvert_exporter": "python",
   "pygments_lexer": "ipython3",
   "version": "3.11.7"
  }
 },
 "nbformat": 4,
 "nbformat_minor": 5
}
