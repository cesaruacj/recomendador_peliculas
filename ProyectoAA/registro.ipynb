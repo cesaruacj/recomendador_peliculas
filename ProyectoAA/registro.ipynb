{
 "cells": [
  {
   "cell_type": "code",
   "execution_count": 1,
   "id": "7a608d33-4f37-4ca3-b1f8-5639255b60b9",
   "metadata": {},
   "outputs": [],
   "source": [
    "import pandas as pd\n",
    "import numpy as np\n",
    "import pickle\n",
    "import json\n",
    "import datetime\n",
    "import ipywidgets as widgets\n",
    "from IPython.display import display, HTML, Javascript, clear_output\n",
    "\n",
    "# Configurar Pandas para mostrar todas las columnas\n",
    "pd.set_option('display.max_columns', None)"
   ]
  },
  {
   "cell_type": "code",
   "execution_count": 2,
   "id": "8773494f-cd4e-4006-898d-9461db836cfe",
   "metadata": {},
   "outputs": [
    {
     "name": "stdout",
     "output_type": "stream",
     "text": [
      "Registro\n"
     ]
    }
   ],
   "source": [
    "id_usuario_activo = 0\n",
    "dfusuarios = pd.read_csv('usuarios.csv')\n",
    "print(\"Registro\")"
   ]
  },
  {
   "cell_type": "code",
   "execution_count": null,
   "id": "612b8380-2277-4cdd-8a71-d1c8f4ac1d67",
   "metadata": {},
   "outputs": [],
   "source": []
  },
  {
   "cell_type": "code",
   "execution_count": 3,
   "id": "196b9b48-58d2-4363-903b-1a03d283a33c",
   "metadata": {},
   "outputs": [],
   "source": [
    "def CrearPerfil():\n",
    "    output_signup2.clear_output()\n",
    "    formulario_valido = True\n",
    "    global dfusuarios\n",
    "    global id_usuario_activo\n",
    "    \n",
    "    mensajes_error = []\n",
    "    if not txt_nuevo_usuario.value:\n",
    "        mensajes_error.append(\"Por favor, ingresa tu nombre.\")\n",
    "        formulario_valido = False\n",
    "    if txt_nuevo_usuario.value:\n",
    "        if check_username_exists(txt_nuevo_usuario.value):\n",
    "            mensajes_error.append(\"El nombre de usuario ya existe. Por favor, intenta con otro.\")\n",
    "            formulario_valido = False\n",
    "    if not txt_nuevo_pwd.value:\n",
    "        mensajes_error.append(\"Por favor, ingresa tu contraseña.\")\n",
    "        formulario_valido = False\n",
    "    if not dbox_sexo.value:\n",
    "        mensajes_error.append(\"Por favor, selecciona tu género.\")\n",
    "        formulario_valido = False\n",
    "    if not datep_nacimiento.value:\n",
    "        mensajes_error.append(\"Por favor, selecciona tu fecha de nacimiento.\")\n",
    "        formulario_valido = False\n",
    "\n",
    "    if datep_nacimiento.value:\n",
    "        # Asumiendo que la fecha es un objeto datetime.date directamente\n",
    "        fecha = datep_nacimiento.value\n",
    "        anio = fecha.year\n",
    "        mes = fecha.month\n",
    "        dia = fecha.day\n",
    "\n",
    "    if not formulario_valido:\n",
    "        with output_signup2:\n",
    "            for mensaje in mensajes_error:\n",
    "                print(mensaje)\n",
    "    else:\n",
    "        with output_signup2:\n",
    "            print(\"Todos los campos son válidos. Procesando información...\")\n",
    "\n",
    "            nuevo_id = dfusuarios['ID_Usuario'].max() + 1\n",
    "            id_usuario_activo = nuevo_id\n",
    "\n",
    "            nuevo_usuario = pd.DataFrame([{\n",
    "                'ID_Usuario': nuevo_id,\n",
    "                'Nombre': txt_nuevo_usuario.value,\n",
    "                'Password': txt_nuevo_pwd.value,\n",
    "                'Sexo': {'Otro': 0, 'Hombre': 1, 'Mujer': 2}[dbox_sexo.value],\n",
    "                'Anio_nac': anio,\n",
    "                'Mes_nac': mes,\n",
    "                'Dia_nac': dia,\n",
    "                'U_Accion': 0.5, 'U_Aventura': 0.5, 'U_Animacion': 0.5, 'U_Comedia': 0.5,\n",
    "                'U_Crimen': 0.5, 'U_Documental': 0.5, 'U_Drama': 0.5, 'U_Familiar': 0.5,\n",
    "                'U_Fantasia': 0.5, 'U_Historia': 0.5, 'U_Horror': 0.5, 'U_Musical': 0.5,\n",
    "                'U_Misterio': 0.5, 'U_Romance': 0.5, 'U_Ciencia_Ficcion': 0.5,\n",
    "                'U_Suspense': 0.5, 'U_Guerra': 0.5, 'U_Western': 0.5\n",
    "            }])\n",
    "\n",
    "            dfusuarios = pd.concat([dfusuarios, nuevo_usuario], ignore_index=True)\n",
    "\n",
    "            dfusuarios.to_csv('usuarios.csv', index=False)\n",
    "\n",
    "            print(\"Usuario registrado con éxito.\")\n",
    "            print(\"Usuario activo: \", id_usuario_activo)\n",
    "            with open('user_id.json', 'w') as f:\n",
    "                json.dump({'ID_Usuario': nuevo_id}, f)\n",
    "            # Redirigir al segundo notebook\n",
    "            display(Javascript('window.location.href = \"ajustegeneros.ipynb\";'))\n",
    "\n",
    "def check_username_exists(username):\n",
    "    \"\"\" Verifica si el nombre de usuario ya existe en el dataframe \"\"\"\n",
    "    return username in dfusuarios['Nombre'].values\n",
    "\n",
    "def direccionar_inicio(b):\n",
    "    with output_signup2:\n",
    "        output_signup2.clear_output()\n",
    "        print(\"Redireccionando\")\n",
    "        display(Javascript('window.location.href = \"login.ipynb\";'))\n",
    "\n",
    "\n",
    "\n"
   ]
  },
  {
   "cell_type": "code",
   "execution_count": 4,
   "id": "472cc972-2c23-4dc2-bd4d-49ebf828f732",
   "metadata": {},
   "outputs": [],
   "source": [
    "# Vista Registro\n",
    "output_signup1 = widgets.Output()\n",
    "with output_signup1:\n",
    "    print(\"Ingresa tus datos para crear tu perfil.\")\n",
    "\n",
    "txt_nuevo_usuario = widgets.Textarea(\n",
    "    description='Usuario:',\n",
    "    disabled=False,\n",
    ")\n",
    "\n",
    "txt_nuevo_pwd = widgets.Textarea(\n",
    "    description='Contraseña:',\n",
    "    disabled=False\n",
    ")\n",
    "\n",
    "dbox_sexo = widgets.Dropdown(\n",
    "    options=['Hombre', 'Mujer', 'Otro'],\n",
    "    value=None,\n",
    "    description='Género:',\n",
    "    disabled=False\n",
    ")\n",
    "\n",
    "datep_nacimiento = widgets.DatePicker(\n",
    "    description='Fecha de nacimiento',\n",
    "    disabled=False\n",
    ")\n",
    "\n",
    "btn_nuevo_perfil = widgets.Button(description=\"Crear perfil\")\n",
    "btn_nuevo_perfil.on_click(lambda b: CrearPerfil())\n",
    "\n",
    "output_signup2 = widgets.Output()\n",
    "with output_signup2:\n",
    "    print(\"\")\n",
    "\n",
    "btn_salir = widgets.Button(description=\"Salir\")\n",
    "btn_salir.on_click(direccionar_inicio)\n",
    "\n",
    "# Grupo de widgets en un VBox\n",
    "vista_registro = widgets.VBox([output_signup1, txt_nuevo_usuario, txt_nuevo_pwd, dbox_sexo, datep_nacimiento, btn_nuevo_perfil, output_signup2, btn_salir])"
   ]
  },
  {
   "cell_type": "code",
   "execution_count": 5,
   "id": "97200604-0075-4a41-a14b-4b0e64e40a55",
   "metadata": {},
   "outputs": [
    {
     "data": {
      "application/vnd.jupyter.widget-view+json": {
       "model_id": "c6bc5b8fe21b40b38a109419c53d2d29",
       "version_major": 2,
       "version_minor": 0
      },
      "text/plain": [
       "VBox(children=(Output(), Textarea(value='', description='Usuario:'), Textarea(value='', description='Contraseñ…"
      ]
     },
     "metadata": {},
     "output_type": "display_data"
    }
   ],
   "source": [
    "#output_vista = widgets.Output()\n",
    "\n",
    "#display(output_vista)\n",
    "\n",
    "display(vista_registro)"
   ]
  },
  {
   "cell_type": "code",
   "execution_count": null,
   "id": "16e898cb-6466-41c3-b5f0-02bbbdf1dde8",
   "metadata": {},
   "outputs": [],
   "source": []
  }
 ],
 "metadata": {
  "kernelspec": {
   "display_name": "Python 3 (ipykernel)",
   "language": "python",
   "name": "python3"
  },
  "language_info": {
   "codemirror_mode": {
    "name": "ipython",
    "version": 3
   },
   "file_extension": ".py",
   "mimetype": "text/x-python",
   "name": "python",
   "nbconvert_exporter": "python",
   "pygments_lexer": "ipython3",
   "version": "3.11.7"
  }
 },
 "nbformat": 4,
 "nbformat_minor": 5
}
